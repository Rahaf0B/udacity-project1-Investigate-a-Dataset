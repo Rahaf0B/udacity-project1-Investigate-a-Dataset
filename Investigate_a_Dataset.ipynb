{
 "cells": [
  {
   "cell_type": "markdown",
   "metadata": {
    "tags": []
   },
   "source": [
    "\n",
    "\n",
    "# Project: Investigate a Dataset - [Dataset-name]\n",
    "\n",
    "## Table of Contents\n",
    "<ul>\n",
    "<li><a href=\"#intro\">Introduction</a></li>\n",
    "<li><a href=\"#wrangling\">Data Wrangling</a></li>\n",
    "<li><a href=\"#eda\">Exploratory Data Analysis</a></li>\n",
    "<li><a href=\"#conclusions\">Conclusions</a></li>\n",
    "</ul>"
   ]
  },
  {
   "cell_type": "markdown",
   "metadata": {},
   "source": [
    "<a id='intro'></a>\n",
    "## Introduction\n",
    "\n",
    "### Dataset Description   \n",
    "\n",
    " The Dataset that has been selected is the `No-show appointments` and this dataset contains information about wither the patient show for the appointments or not, with other attributes and information, the data contain around 100k medical record about appointments. The column (information) that dataset contains are with its description (form the first observation):  \n",
    "| **Field**                                        | **Description**                                                                   | **Type**   |\n",
    "|--------------------------------------------------|-----------------------------------------------------------------------------------|------------|\n",
    "| **PatientId**                                    | The identification of the patient                                                 | number     |\n",
    "| **AppointmentID**                                | The identification of the appointment                                             | number     |\n",
    "| **Gender**                                       | Female/Male                                                                       | string     |\n",
    "| **ScheduledDay**                                 | The date and time when the patient scheduled the appointment                      | DateTime   |\n",
    "| **AppointmentDay**                               | The date and time for the appointment                                             | DateTime   |\n",
    "| **Age**                                          | The age of the patient                                                            | number     |\n",
    "| **Neighbourhood**                                | The location for the appointment (where the hospital is located)                  | string     |\n",
    "| **Scholarship**                                  | Whether the patient is enrolled in the Brazilian welfare program or not           | boolean    |\n",
    "| **Hypertension, Diabetes, Alcoholism** | Indicate whether the patient has these medical issues or not                      | boolean    |\n",
    "| **Handcap**                                 | The number of disabilities a person has                        | number     |\n",
    "| **SMS_received**                                 | Indicate whether the patient got reminder SMS or not 0 mean they got SMS , 1 mean they did not get SMS                        | boolean     |\n",
    "| **No-show**                                      | Whether the patient shows up for the appointment or not (No = show, Yes = no-show)| string     |  \n",
    "\n",
    "\n",
    "--------------------------------------------------------------------------------\n",
    "\n",
    ">  Other investigation about the dataset will be throw the project process \n",
    "\n",
    "\n",
    "\n",
    "\n",
    "### Question(s) for Analysis\n",
    "- What is the overall no-show rate?\n",
    "- What is the relation between the age for each gender and the patient not showing up for an appointment?\n",
    "- How does receiving an SMS reminder affect the likelihood of attending the appointment?\n",
    "- What the affect of the patient having a scholarship on the rate of a not showing at the appointment?\n"
   ]
  },
  {
   "cell_type": "code",
   "execution_count": 50,
   "metadata": {
    "tags": []
   },
   "outputs": [],
   "source": [
    "# import statements for all of the packages \n",
    "import pandas as pd\n",
    "import numpy as np\n",
    "import matplotlib.pyplot as pl\n",
    "import seaborn as sns\n",
    "\n",
    "#Remove warnings\n",
    "import warnings\n",
    "warnings.simplefilter(action='ignore', category=FutureWarning)\n"
   ]
  },
  {
   "cell_type": "markdown",
   "metadata": {},
   "source": [
    "<a id='wrangling'></a>\n",
    "## Data Wrangling\n",
    "\n",
    "\n",
    "### General Properties\n"
   ]
  },
  {
   "cell_type": "code",
   "execution_count": 51,
   "metadata": {
    "tags": []
   },
   "outputs": [
    {
     "data": {
      "text/html": [
       "<div>\n",
       "<style scoped>\n",
       "    .dataframe tbody tr th:only-of-type {\n",
       "        vertical-align: middle;\n",
       "    }\n",
       "\n",
       "    .dataframe tbody tr th {\n",
       "        vertical-align: top;\n",
       "    }\n",
       "\n",
       "    .dataframe thead th {\n",
       "        text-align: right;\n",
       "    }\n",
       "</style>\n",
       "<table border=\"1\" class=\"dataframe\">\n",
       "  <thead>\n",
       "    <tr style=\"text-align: right;\">\n",
       "      <th></th>\n",
       "      <th>PatientId</th>\n",
       "      <th>AppointmentID</th>\n",
       "      <th>Gender</th>\n",
       "      <th>ScheduledDay</th>\n",
       "      <th>AppointmentDay</th>\n",
       "      <th>Age</th>\n",
       "      <th>Neighbourhood</th>\n",
       "      <th>Scholarship</th>\n",
       "      <th>Hipertension</th>\n",
       "      <th>Diabetes</th>\n",
       "      <th>Alcoholism</th>\n",
       "      <th>Handcap</th>\n",
       "      <th>SMS_received</th>\n",
       "      <th>No-show</th>\n",
       "    </tr>\n",
       "  </thead>\n",
       "  <tbody>\n",
       "    <tr>\n",
       "      <th>0</th>\n",
       "      <td>2.987250e+13</td>\n",
       "      <td>5642903</td>\n",
       "      <td>F</td>\n",
       "      <td>2016-04-29T18:38:08Z</td>\n",
       "      <td>2016-04-29T00:00:00Z</td>\n",
       "      <td>62</td>\n",
       "      <td>JARDIM DA PENHA</td>\n",
       "      <td>0</td>\n",
       "      <td>1</td>\n",
       "      <td>0</td>\n",
       "      <td>0</td>\n",
       "      <td>0</td>\n",
       "      <td>0</td>\n",
       "      <td>No</td>\n",
       "    </tr>\n",
       "    <tr>\n",
       "      <th>1</th>\n",
       "      <td>5.589978e+14</td>\n",
       "      <td>5642503</td>\n",
       "      <td>M</td>\n",
       "      <td>2016-04-29T16:08:27Z</td>\n",
       "      <td>2016-04-29T00:00:00Z</td>\n",
       "      <td>56</td>\n",
       "      <td>JARDIM DA PENHA</td>\n",
       "      <td>0</td>\n",
       "      <td>0</td>\n",
       "      <td>0</td>\n",
       "      <td>0</td>\n",
       "      <td>0</td>\n",
       "      <td>0</td>\n",
       "      <td>No</td>\n",
       "    </tr>\n",
       "    <tr>\n",
       "      <th>2</th>\n",
       "      <td>4.262962e+12</td>\n",
       "      <td>5642549</td>\n",
       "      <td>F</td>\n",
       "      <td>2016-04-29T16:19:04Z</td>\n",
       "      <td>2016-04-29T00:00:00Z</td>\n",
       "      <td>62</td>\n",
       "      <td>MATA DA PRAIA</td>\n",
       "      <td>0</td>\n",
       "      <td>0</td>\n",
       "      <td>0</td>\n",
       "      <td>0</td>\n",
       "      <td>0</td>\n",
       "      <td>0</td>\n",
       "      <td>No</td>\n",
       "    </tr>\n",
       "    <tr>\n",
       "      <th>3</th>\n",
       "      <td>8.679512e+11</td>\n",
       "      <td>5642828</td>\n",
       "      <td>F</td>\n",
       "      <td>2016-04-29T17:29:31Z</td>\n",
       "      <td>2016-04-29T00:00:00Z</td>\n",
       "      <td>8</td>\n",
       "      <td>PONTAL DE CAMBURI</td>\n",
       "      <td>0</td>\n",
       "      <td>0</td>\n",
       "      <td>0</td>\n",
       "      <td>0</td>\n",
       "      <td>0</td>\n",
       "      <td>0</td>\n",
       "      <td>No</td>\n",
       "    </tr>\n",
       "    <tr>\n",
       "      <th>4</th>\n",
       "      <td>8.841186e+12</td>\n",
       "      <td>5642494</td>\n",
       "      <td>F</td>\n",
       "      <td>2016-04-29T16:07:23Z</td>\n",
       "      <td>2016-04-29T00:00:00Z</td>\n",
       "      <td>56</td>\n",
       "      <td>JARDIM DA PENHA</td>\n",
       "      <td>0</td>\n",
       "      <td>1</td>\n",
       "      <td>1</td>\n",
       "      <td>0</td>\n",
       "      <td>0</td>\n",
       "      <td>0</td>\n",
       "      <td>No</td>\n",
       "    </tr>\n",
       "  </tbody>\n",
       "</table>\n",
       "</div>"
      ],
      "text/plain": [
       "      PatientId  AppointmentID Gender          ScheduledDay  \\\n",
       "0  2.987250e+13        5642903      F  2016-04-29T18:38:08Z   \n",
       "1  5.589978e+14        5642503      M  2016-04-29T16:08:27Z   \n",
       "2  4.262962e+12        5642549      F  2016-04-29T16:19:04Z   \n",
       "3  8.679512e+11        5642828      F  2016-04-29T17:29:31Z   \n",
       "4  8.841186e+12        5642494      F  2016-04-29T16:07:23Z   \n",
       "\n",
       "         AppointmentDay  Age      Neighbourhood  Scholarship  Hipertension  \\\n",
       "0  2016-04-29T00:00:00Z   62    JARDIM DA PENHA            0             1   \n",
       "1  2016-04-29T00:00:00Z   56    JARDIM DA PENHA            0             0   \n",
       "2  2016-04-29T00:00:00Z   62      MATA DA PRAIA            0             0   \n",
       "3  2016-04-29T00:00:00Z    8  PONTAL DE CAMBURI            0             0   \n",
       "4  2016-04-29T00:00:00Z   56    JARDIM DA PENHA            0             1   \n",
       "\n",
       "   Diabetes  Alcoholism  Handcap  SMS_received No-show  \n",
       "0         0           0        0             0      No  \n",
       "1         0           0        0             0      No  \n",
       "2         0           0        0             0      No  \n",
       "3         0           0        0             0      No  \n",
       "4         1           0        0             0      No  "
      ]
     },
     "execution_count": 51,
     "metadata": {},
     "output_type": "execute_result"
    }
   ],
   "source": [
    "#Load the data\n",
    "df = pd.read_csv('Database_No_show_appointments/noshowappointments-kagglev2-may-2016.csv') \n",
    "\n",
    "# Display 5 rows of data\n",
    "df.head()"
   ]
  },
  {
   "cell_type": "code",
   "execution_count": 52,
   "metadata": {},
   "outputs": [
    {
     "name": "stdout",
     "output_type": "stream",
     "text": [
      "# of rows 110,527 , # of columns 14\n"
     ]
    }
   ],
   "source": [
    "#Print the number of rows and the number of columns\n",
    "print(f'# of rows {df.shape[0]:,} , # of columns {df.shape[1]:,}')"
   ]
  },
  {
   "cell_type": "markdown",
   "metadata": {},
   "source": [
    ">`From the output we can see that the number of rows is equal to 110527 and the number of columns is equal to 14`"
   ]
  },
  {
   "cell_type": "code",
   "execution_count": 53,
   "metadata": {},
   "outputs": [
    {
     "data": {
      "text/html": [
       "<div>\n",
       "<style scoped>\n",
       "    .dataframe tbody tr th:only-of-type {\n",
       "        vertical-align: middle;\n",
       "    }\n",
       "\n",
       "    .dataframe tbody tr th {\n",
       "        vertical-align: top;\n",
       "    }\n",
       "\n",
       "    .dataframe thead th {\n",
       "        text-align: right;\n",
       "    }\n",
       "</style>\n",
       "<table border=\"1\" class=\"dataframe\">\n",
       "  <thead>\n",
       "    <tr style=\"text-align: right;\">\n",
       "      <th></th>\n",
       "      <th>PatientId</th>\n",
       "      <th>AppointmentID</th>\n",
       "      <th>Age</th>\n",
       "      <th>Scholarship</th>\n",
       "      <th>Hipertension</th>\n",
       "      <th>Diabetes</th>\n",
       "      <th>Alcoholism</th>\n",
       "      <th>Handcap</th>\n",
       "      <th>SMS_received</th>\n",
       "    </tr>\n",
       "  </thead>\n",
       "  <tbody>\n",
       "    <tr>\n",
       "      <th>count</th>\n",
       "      <td>1.105270e+05</td>\n",
       "      <td>1.105270e+05</td>\n",
       "      <td>110527.000000</td>\n",
       "      <td>110527.000000</td>\n",
       "      <td>110527.000000</td>\n",
       "      <td>110527.000000</td>\n",
       "      <td>110527.000000</td>\n",
       "      <td>110527.000000</td>\n",
       "      <td>110527.000000</td>\n",
       "    </tr>\n",
       "    <tr>\n",
       "      <th>mean</th>\n",
       "      <td>1.474963e+14</td>\n",
       "      <td>5.675305e+06</td>\n",
       "      <td>37.088874</td>\n",
       "      <td>0.098266</td>\n",
       "      <td>0.197246</td>\n",
       "      <td>0.071865</td>\n",
       "      <td>0.030400</td>\n",
       "      <td>0.022248</td>\n",
       "      <td>0.321026</td>\n",
       "    </tr>\n",
       "    <tr>\n",
       "      <th>std</th>\n",
       "      <td>2.560949e+14</td>\n",
       "      <td>7.129575e+04</td>\n",
       "      <td>23.110205</td>\n",
       "      <td>0.297675</td>\n",
       "      <td>0.397921</td>\n",
       "      <td>0.258265</td>\n",
       "      <td>0.171686</td>\n",
       "      <td>0.161543</td>\n",
       "      <td>0.466873</td>\n",
       "    </tr>\n",
       "    <tr>\n",
       "      <th>min</th>\n",
       "      <td>3.921784e+04</td>\n",
       "      <td>5.030230e+06</td>\n",
       "      <td>-1.000000</td>\n",
       "      <td>0.000000</td>\n",
       "      <td>0.000000</td>\n",
       "      <td>0.000000</td>\n",
       "      <td>0.000000</td>\n",
       "      <td>0.000000</td>\n",
       "      <td>0.000000</td>\n",
       "    </tr>\n",
       "    <tr>\n",
       "      <th>25%</th>\n",
       "      <td>4.172614e+12</td>\n",
       "      <td>5.640286e+06</td>\n",
       "      <td>18.000000</td>\n",
       "      <td>0.000000</td>\n",
       "      <td>0.000000</td>\n",
       "      <td>0.000000</td>\n",
       "      <td>0.000000</td>\n",
       "      <td>0.000000</td>\n",
       "      <td>0.000000</td>\n",
       "    </tr>\n",
       "    <tr>\n",
       "      <th>50%</th>\n",
       "      <td>3.173184e+13</td>\n",
       "      <td>5.680573e+06</td>\n",
       "      <td>37.000000</td>\n",
       "      <td>0.000000</td>\n",
       "      <td>0.000000</td>\n",
       "      <td>0.000000</td>\n",
       "      <td>0.000000</td>\n",
       "      <td>0.000000</td>\n",
       "      <td>0.000000</td>\n",
       "    </tr>\n",
       "    <tr>\n",
       "      <th>75%</th>\n",
       "      <td>9.439172e+13</td>\n",
       "      <td>5.725524e+06</td>\n",
       "      <td>55.000000</td>\n",
       "      <td>0.000000</td>\n",
       "      <td>0.000000</td>\n",
       "      <td>0.000000</td>\n",
       "      <td>0.000000</td>\n",
       "      <td>0.000000</td>\n",
       "      <td>1.000000</td>\n",
       "    </tr>\n",
       "    <tr>\n",
       "      <th>max</th>\n",
       "      <td>9.999816e+14</td>\n",
       "      <td>5.790484e+06</td>\n",
       "      <td>115.000000</td>\n",
       "      <td>1.000000</td>\n",
       "      <td>1.000000</td>\n",
       "      <td>1.000000</td>\n",
       "      <td>1.000000</td>\n",
       "      <td>4.000000</td>\n",
       "      <td>1.000000</td>\n",
       "    </tr>\n",
       "  </tbody>\n",
       "</table>\n",
       "</div>"
      ],
      "text/plain": [
       "          PatientId  AppointmentID            Age    Scholarship  \\\n",
       "count  1.105270e+05   1.105270e+05  110527.000000  110527.000000   \n",
       "mean   1.474963e+14   5.675305e+06      37.088874       0.098266   \n",
       "std    2.560949e+14   7.129575e+04      23.110205       0.297675   \n",
       "min    3.921784e+04   5.030230e+06      -1.000000       0.000000   \n",
       "25%    4.172614e+12   5.640286e+06      18.000000       0.000000   \n",
       "50%    3.173184e+13   5.680573e+06      37.000000       0.000000   \n",
       "75%    9.439172e+13   5.725524e+06      55.000000       0.000000   \n",
       "max    9.999816e+14   5.790484e+06     115.000000       1.000000   \n",
       "\n",
       "        Hipertension       Diabetes     Alcoholism        Handcap  \\\n",
       "count  110527.000000  110527.000000  110527.000000  110527.000000   \n",
       "mean        0.197246       0.071865       0.030400       0.022248   \n",
       "std         0.397921       0.258265       0.171686       0.161543   \n",
       "min         0.000000       0.000000       0.000000       0.000000   \n",
       "25%         0.000000       0.000000       0.000000       0.000000   \n",
       "50%         0.000000       0.000000       0.000000       0.000000   \n",
       "75%         0.000000       0.000000       0.000000       0.000000   \n",
       "max         1.000000       1.000000       1.000000       4.000000   \n",
       "\n",
       "        SMS_received  \n",
       "count  110527.000000  \n",
       "mean        0.321026  \n",
       "std         0.466873  \n",
       "min         0.000000  \n",
       "25%         0.000000  \n",
       "50%         0.000000  \n",
       "75%         1.000000  \n",
       "max         1.000000  "
      ]
     },
     "execution_count": 53,
     "metadata": {},
     "output_type": "execute_result"
    }
   ],
   "source": [
    "#Print some information about the dataset\n",
    "df.describe()"
   ]
  },
  {
   "cell_type": "markdown",
   "metadata": {},
   "source": [
    "> `From the last output we can see that there an issue in values in one of the attributes that shown in the min and max and will dive into it later in the project`"
   ]
  },
  {
   "cell_type": "code",
   "execution_count": 54,
   "metadata": {},
   "outputs": [
    {
     "name": "stdout",
     "output_type": "stream",
     "text": [
      "The attributes that are in the dataset are:\n",
      "- PatientId\n",
      "- AppointmentID\n",
      "- Gender\n",
      "- ScheduledDay\n",
      "- AppointmentDay\n",
      "- Age\n",
      "- Neighbourhood\n",
      "- Scholarship\n",
      "- Hipertension\n",
      "- Diabetes\n",
      "- Alcoholism\n",
      "- Handcap\n",
      "- SMS_received\n",
      "- No-show\n"
     ]
    }
   ],
   "source": [
    "#Display each attribute of the columns of the dataset\n",
    "print(\"The attributes that are in the dataset are:\")\n",
    "for attribute in df.columns:\n",
    "    print('- '+attribute)"
   ]
  },
  {
   "cell_type": "markdown",
   "metadata": {},
   "source": [
    "\n",
    "> `From the output From the previous cell we can see that there are some of the attributes can be dropped out because can be non relevant to the main topic \n",
    "\" if the patent shows up in the appointment or not\"\n",
    "The attributes that can be dropped out:`\n",
    "- `PatientId`\n",
    "- `AppointmentIDS` \n",
    "\n"
   ]
  },
  {
   "cell_type": "code",
   "execution_count": 55,
   "metadata": {},
   "outputs": [],
   "source": [
    "\n",
    "#function to print the attributes types for the dataset (the function will be used multiple times)\n",
    "def print_data_types(df):\n",
    "    print(df.dtypes)"
   ]
  },
  {
   "cell_type": "code",
   "execution_count": 56,
   "metadata": {},
   "outputs": [
    {
     "name": "stdout",
     "output_type": "stream",
     "text": [
      "column           data-type\n",
      "\n",
      "PatientId         float64\n",
      "AppointmentID       int64\n",
      "Gender             object\n",
      "ScheduledDay       object\n",
      "AppointmentDay     object\n",
      "Age                 int64\n",
      "Neighbourhood      object\n",
      "Scholarship         int64\n",
      "Hipertension        int64\n",
      "Diabetes            int64\n",
      "Alcoholism          int64\n",
      "Handcap             int64\n",
      "SMS_received        int64\n",
      "No-show            object\n",
      "dtype: object\n"
     ]
    }
   ],
   "source": [
    "#print the attributes types by using a function\n",
    "print(\"column           data-type\\n\")\n",
    "print_data_types(df)\n",
    "\n"
   ]
  },
  {
   "cell_type": "markdown",
   "metadata": {},
   "source": [
    "> `From the output From the previous cells we can indicate that there some of the attribute that must be converted to the right format such as:`\n",
    "- `ScheduledDay and AppointmentDay are object (string) and need to be converted to DateTime`\n",
    "- `Scholarship, Hipertension, Diabetes, Alcoholism are int64 and need to be converted to boolean`\n",
    "- `PatientId is float64 and need to be converted to int64`\n",
    "- `SMS_received is int64 and need to be converted to boolean`\n"
   ]
  },
  {
   "cell_type": "code",
   "execution_count": 57,
   "metadata": {},
   "outputs": [
    {
     "name": "stdout",
     "output_type": "stream",
     "text": [
      "Column        #Of null values\n",
      "\n",
      "PatientId         0\n",
      "AppointmentID     0\n",
      "Gender            0\n",
      "ScheduledDay      0\n",
      "AppointmentDay    0\n",
      "Age               0\n",
      "Neighbourhood     0\n",
      "Scholarship       0\n",
      "Hipertension      0\n",
      "Diabetes          0\n",
      "Alcoholism        0\n",
      "Handcap           0\n",
      "SMS_received      0\n",
      "No-show           0\n",
      "dtype: int64\n"
     ]
    }
   ],
   "source": [
    "# print information about the dataset\n",
    "print(\"Column        #Of null values\\n\")  \n",
    "print(df.isnull().sum())"
   ]
  },
  {
   "cell_type": "markdown",
   "metadata": {},
   "source": [
    "> `From the output of the previous cell we can indicate that there are no missing values in the attributes`"
   ]
  },
  {
   "cell_type": "code",
   "execution_count": 58,
   "metadata": {},
   "outputs": [],
   "source": [
    "# function to print the number of unique values for each attribute\n",
    "\n",
    "def print_attributes_with_numbers_unique_values(df):\n",
    "    print(\"Column         # of unique values\\n\")\n",
    "    print(df.nunique())\n",
    "    print(\"******************\")\n",
    "   "
   ]
  },
  {
   "cell_type": "code",
   "execution_count": 59,
   "metadata": {},
   "outputs": [
    {
     "name": "stdout",
     "output_type": "stream",
     "text": [
      "The number of unique values for each attribute\n",
      "Column         # of unique values\n",
      "\n",
      "PatientId          62299\n",
      "AppointmentID     110527\n",
      "Gender                 2\n",
      "ScheduledDay      103549\n",
      "AppointmentDay        27\n",
      "Age                  104\n",
      "Neighbourhood         81\n",
      "Scholarship            2\n",
      "Hipertension           2\n",
      "Diabetes               2\n",
      "Alcoholism             2\n",
      "Handcap                5\n",
      "SMS_received           2\n",
      "No-show                2\n",
      "dtype: int64\n",
      "******************\n"
     ]
    }
   ],
   "source": [
    "#print the number of unique values for each attribute\n",
    "print(\"The number of unique values for each attribute\")\n",
    "print_attributes_with_numbers_unique_values(df)"
   ]
  },
  {
   "cell_type": "markdown",
   "metadata": {},
   "source": [
    "> `From the output from the previous cell we can see that there some of the string attributes that have less number of unique values and can be converted to category and they are:`  \n",
    "- `Gender`\n",
    "- `Neighbourhood`\n"
   ]
  },
  {
   "cell_type": "code",
   "execution_count": 60,
   "metadata": {},
   "outputs": [],
   "source": [
    "#Print the unique values and its count for the columns\n",
    "def print_unique_value_with_their_count(df,columns):\n",
    "    for col in columns:\n",
    "        print(\"The values of the column `{}` are : \".format(col))\n",
    "        print(df[col].value_counts())\n",
    "        print(\"***********************\\n\")"
   ]
  },
  {
   "cell_type": "code",
   "execution_count": 61,
   "metadata": {},
   "outputs": [
    {
     "name": "stdout",
     "output_type": "stream",
     "text": [
      "The values of the column `No-show` are : \n",
      "No     88208\n",
      "Yes    22319\n",
      "Name: No-show, dtype: int64\n",
      "***********************\n",
      "\n",
      "The values of the column `SMS_received` are : \n",
      "0    75045\n",
      "1    35482\n",
      "Name: SMS_received, dtype: int64\n",
      "***********************\n",
      "\n",
      "The values of the column `Scholarship` are : \n",
      "0    99666\n",
      "1    10861\n",
      "Name: Scholarship, dtype: int64\n",
      "***********************\n",
      "\n",
      "The values of the column `Age` are : \n",
      " 0      3539\n",
      " 1      2273\n",
      " 52     1746\n",
      " 49     1652\n",
      " 53     1651\n",
      "        ... \n",
      " 115       5\n",
      " 100       4\n",
      " 102       2\n",
      " 99        1\n",
      "-1         1\n",
      "Name: Age, Length: 104, dtype: int64\n",
      "***********************\n",
      "\n"
     ]
    }
   ],
   "source": [
    "#Display some attributes values and their counts\n",
    "columns=[\"No-show\",\"SMS_received\",\"Scholarship\",\"Age\" ]\n",
    "print_unique_value_with_their_count(df,columns)"
   ]
  },
  {
   "cell_type": "markdown",
   "metadata": {},
   "source": [
    "> `From the Cell that show the types of the attribuetes and th previous code cell we can indicate that:`\n",
    " - `No-show is object(string) and need to be converted to int (Yes to 1 and No to 0) to make the plot process easier`"
   ]
  },
  {
   "cell_type": "code",
   "execution_count": 62,
   "metadata": {},
   "outputs": [
    {
     "name": "stdout",
     "output_type": "stream",
     "text": [
      "The total number of duplicated rows is :  0\n"
     ]
    }
   ],
   "source": [
    "#Print the the total number of dublicate rows\n",
    "print(\"The total number of duplicated rows is : \",df.duplicated().sum())"
   ]
  },
  {
   "cell_type": "code",
   "execution_count": 63,
   "metadata": {},
   "outputs": [],
   "source": [
    "\n",
    "\n",
    "#Display some information about the attributes \n",
    "def print_min_max_values_of_attributes(df):\n",
    "    for col in df.select_dtypes(include=['number']).columns:\n",
    "        print(col)\n",
    "        print(\"The min value for the attributes is:\")\n",
    "        print(np.min(df[col]))\n",
    "        print(\"The max value for the attributes is:\")\n",
    "        print(np.max(df[col]))\n",
    "        print(\"\\n*****************************************\\n\")\n"
   ]
  },
  {
   "cell_type": "code",
   "execution_count": 64,
   "metadata": {},
   "outputs": [
    {
     "name": "stdout",
     "output_type": "stream",
     "text": [
      "PatientId\n",
      "The min value for the attributes is:\n",
      "39217.84439\n",
      "The max value for the attributes is:\n",
      "999981631772427.0\n",
      "\n",
      "*****************************************\n",
      "\n",
      "AppointmentID\n",
      "The min value for the attributes is:\n",
      "5030230\n",
      "The max value for the attributes is:\n",
      "5790484\n",
      "\n",
      "*****************************************\n",
      "\n",
      "Age\n",
      "The min value for the attributes is:\n",
      "-1\n",
      "The max value for the attributes is:\n",
      "115\n",
      "\n",
      "*****************************************\n",
      "\n",
      "Scholarship\n",
      "The min value for the attributes is:\n",
      "0\n",
      "The max value for the attributes is:\n",
      "1\n",
      "\n",
      "*****************************************\n",
      "\n",
      "Hipertension\n",
      "The min value for the attributes is:\n",
      "0\n",
      "The max value for the attributes is:\n",
      "1\n",
      "\n",
      "*****************************************\n",
      "\n",
      "Diabetes\n",
      "The min value for the attributes is:\n",
      "0\n",
      "The max value for the attributes is:\n",
      "1\n",
      "\n",
      "*****************************************\n",
      "\n",
      "Alcoholism\n",
      "The min value for the attributes is:\n",
      "0\n",
      "The max value for the attributes is:\n",
      "1\n",
      "\n",
      "*****************************************\n",
      "\n",
      "Handcap\n",
      "The min value for the attributes is:\n",
      "0\n",
      "The max value for the attributes is:\n",
      "4\n",
      "\n",
      "*****************************************\n",
      "\n",
      "SMS_received\n",
      "The min value for the attributes is:\n",
      "0\n",
      "The max value for the attributes is:\n",
      "1\n",
      "\n",
      "*****************************************\n",
      "\n"
     ]
    }
   ],
   "source": [
    "#Print the min and max for the attributes\n",
    "\n",
    "print_min_max_values_of_attributes(df)"
   ]
  },
  {
   "cell_type": "markdown",
   "metadata": {},
   "source": [
    "`From the output from the previous cell we can see that there some of the value that is not make sense\n",
    "such as :`\n",
    "- `in the age column the min value is -1 and the max value is 115 and that beyond the normal people ages`"
   ]
  },
  {
   "cell_type": "code",
   "execution_count": 65,
   "metadata": {},
   "outputs": [
    {
     "name": "stdout",
     "output_type": "stream",
     "text": [
      "The number of patients that have age less than 0 is : 1 The number of patients that their age is 100 or older than 100 is : 11\n"
     ]
    }
   ],
   "source": [
    "#Print the count of people that have age less than 0 and equal or older than 100\n",
    "print(\"The number of patients that have age less than 0 is : {} The number of patients that their age is 100 or older than 100 is : {}\".format(df.query(\"Age<0\").shape[0],df.query(\"Age>=100\").shape[0]))\n"
   ]
  },
  {
   "cell_type": "markdown",
   "metadata": {},
   "source": [
    "> `After choosing that the wanted range for the Age attribute is from 0 to 99 (0 mean new born), display the count of the total number and it seems that the total number is 12 and compared to the total number of patients is nothing so they will be deleted later in the cleaning process`"
   ]
  },
  {
   "cell_type": "markdown",
   "metadata": {},
   "source": [
    "### Conclusion for Exploring The DataSet \n",
    "- The DataSet has 14 attributes\n",
    "- The attributes types are float64, int64, and object(string) as has been shown in the previous cells\n",
    "- There some attributes type need to be converted \n",
    "- There are no missing values in the DataSet\n",
    "- There are no duplicated values in the DataSet\n",
    "- There is a wrong range limit in the DataSet for the age attribute\n"
   ]
  },
  {
   "cell_type": "markdown",
   "metadata": {},
   "source": [
    "\n",
    "### Data Cleaning\n"
   ]
  },
  {
   "cell_type": "markdown",
   "metadata": {},
   "source": [
    "`After explore the dataset in the previous section, there some problems that have been detected `\n",
    "\n",
    "\n",
    "`The problems that the dataset has:`\n",
    "\n",
    "    - Non relevant attributes\n",
    "    - wrong Data Type\n",
    "      - object to DateTime\n",
    "      - object to category\n",
    "      - object to int\n",
    "      - int64 to boolean\n",
    "    - Wrong range value for the age attribute"
   ]
  },
  {
   "cell_type": "code",
   "execution_count": 66,
   "metadata": {},
   "outputs": [],
   "source": [
    "# Remove the attributes that are not relevant \n",
    "df.drop(['PatientId', 'AppointmentID'], axis=1, inplace=True)"
   ]
  },
  {
   "cell_type": "code",
   "execution_count": 67,
   "metadata": {},
   "outputs": [],
   "source": [
    "#Define a function to convert the types of the attributes\n",
    "def convert_data_type(df,column_To_convert):\n",
    "    for key,type in column_To_convert.items():\n",
    "        df[key] = df[key].astype(type)"
   ]
  },
  {
   "cell_type": "code",
   "execution_count": 68,
   "metadata": {},
   "outputs": [],
   "source": [
    "#Define the column that needed to convert the data type of them and then call convert_data_type function to convert them\n",
    "column_To_convert={\"Gender\":\"category\",\"Neighbourhood\":\"category\" ,\"Scholarship\":\"bool\" ,\"Hipertension\":\"bool\", \"Diabetes\" :\"bool\" ,\"Alcoholism\":\"bool\",\"SMS_received\":\"bool\"}\n",
    "convert_data_type(df,column_To_convert)"
   ]
  },
  {
   "cell_type": "code",
   "execution_count": 69,
   "metadata": {},
   "outputs": [],
   "source": [
    "#Convert the value of No-show column to int and replace Yes to 1 and No to 0 to make it easy to calculate the mean and analyze the plots \n",
    "df['No-show'] = df['No-show'].map({'No': 0, 'Yes': 1}).astype(int)\n"
   ]
  },
  {
   "cell_type": "code",
   "execution_count": 70,
   "metadata": {},
   "outputs": [],
   "source": [
    "#Define a function to convert the data type to datetime\n",
    "def convert_date_time_type(df,key):\n",
    "    df[key]=pd.to_datetime(df[key])\n"
   ]
  },
  {
   "cell_type": "code",
   "execution_count": 71,
   "metadata": {},
   "outputs": [],
   "source": [
    "#Call the function convert_date_time_type to convert the attributes ScheduledDay and AppointmentDay from object to datetime\n",
    "convert_date_time_type(df,\"ScheduledDay\")\n",
    "convert_date_time_type(df,\"AppointmentDay\")"
   ]
  },
  {
   "cell_type": "code",
   "execution_count": 72,
   "metadata": {},
   "outputs": [
    {
     "data": {
      "text/html": [
       "<div>\n",
       "<style scoped>\n",
       "    .dataframe tbody tr th:only-of-type {\n",
       "        vertical-align: middle;\n",
       "    }\n",
       "\n",
       "    .dataframe tbody tr th {\n",
       "        vertical-align: top;\n",
       "    }\n",
       "\n",
       "    .dataframe thead th {\n",
       "        text-align: right;\n",
       "    }\n",
       "</style>\n",
       "<table border=\"1\" class=\"dataframe\">\n",
       "  <thead>\n",
       "    <tr style=\"text-align: right;\">\n",
       "      <th></th>\n",
       "      <th>Gender</th>\n",
       "      <th>ScheduledDay</th>\n",
       "      <th>AppointmentDay</th>\n",
       "      <th>Age</th>\n",
       "      <th>Neighbourhood</th>\n",
       "      <th>Scholarship</th>\n",
       "      <th>Hipertension</th>\n",
       "      <th>Diabetes</th>\n",
       "      <th>Alcoholism</th>\n",
       "      <th>Handcap</th>\n",
       "      <th>SMS_received</th>\n",
       "      <th>No-show</th>\n",
       "    </tr>\n",
       "  </thead>\n",
       "  <tbody>\n",
       "    <tr>\n",
       "      <th>0</th>\n",
       "      <td>F</td>\n",
       "      <td>2016-04-29 18:38:08+00:00</td>\n",
       "      <td>2016-04-29 00:00:00+00:00</td>\n",
       "      <td>62</td>\n",
       "      <td>JARDIM DA PENHA</td>\n",
       "      <td>False</td>\n",
       "      <td>True</td>\n",
       "      <td>False</td>\n",
       "      <td>False</td>\n",
       "      <td>0</td>\n",
       "      <td>False</td>\n",
       "      <td>0</td>\n",
       "    </tr>\n",
       "    <tr>\n",
       "      <th>1</th>\n",
       "      <td>M</td>\n",
       "      <td>2016-04-29 16:08:27+00:00</td>\n",
       "      <td>2016-04-29 00:00:00+00:00</td>\n",
       "      <td>56</td>\n",
       "      <td>JARDIM DA PENHA</td>\n",
       "      <td>False</td>\n",
       "      <td>False</td>\n",
       "      <td>False</td>\n",
       "      <td>False</td>\n",
       "      <td>0</td>\n",
       "      <td>False</td>\n",
       "      <td>0</td>\n",
       "    </tr>\n",
       "    <tr>\n",
       "      <th>2</th>\n",
       "      <td>F</td>\n",
       "      <td>2016-04-29 16:19:04+00:00</td>\n",
       "      <td>2016-04-29 00:00:00+00:00</td>\n",
       "      <td>62</td>\n",
       "      <td>MATA DA PRAIA</td>\n",
       "      <td>False</td>\n",
       "      <td>False</td>\n",
       "      <td>False</td>\n",
       "      <td>False</td>\n",
       "      <td>0</td>\n",
       "      <td>False</td>\n",
       "      <td>0</td>\n",
       "    </tr>\n",
       "  </tbody>\n",
       "</table>\n",
       "</div>"
      ],
      "text/plain": [
       "  Gender              ScheduledDay            AppointmentDay  Age  \\\n",
       "0      F 2016-04-29 18:38:08+00:00 2016-04-29 00:00:00+00:00   62   \n",
       "1      M 2016-04-29 16:08:27+00:00 2016-04-29 00:00:00+00:00   56   \n",
       "2      F 2016-04-29 16:19:04+00:00 2016-04-29 00:00:00+00:00   62   \n",
       "\n",
       "     Neighbourhood  Scholarship  Hipertension  Diabetes  Alcoholism  Handcap  \\\n",
       "0  JARDIM DA PENHA        False          True     False       False        0   \n",
       "1  JARDIM DA PENHA        False         False     False       False        0   \n",
       "2    MATA DA PRAIA        False         False     False       False        0   \n",
       "\n",
       "   SMS_received  No-show  \n",
       "0         False        0  \n",
       "1         False        0  \n",
       "2         False        0  "
      ]
     },
     "execution_count": 72,
     "metadata": {},
     "output_type": "execute_result"
    }
   ],
   "source": [
    "#Print some rows of the data set to confirm that the types of the attributes have been converted \n",
    "df.head(3)"
   ]
  },
  {
   "cell_type": "code",
   "execution_count": 73,
   "metadata": {},
   "outputs": [
    {
     "name": "stdout",
     "output_type": "stream",
     "text": [
      "Gender                       category\n",
      "ScheduledDay      datetime64[ns, UTC]\n",
      "AppointmentDay    datetime64[ns, UTC]\n",
      "Age                             int64\n",
      "Neighbourhood                category\n",
      "Scholarship                      bool\n",
      "Hipertension                     bool\n",
      "Diabetes                         bool\n",
      "Alcoholism                       bool\n",
      "Handcap                         int64\n",
      "SMS_received                     bool\n",
      "No-show                         int32\n",
      "dtype: object\n"
     ]
    }
   ],
   "source": [
    "#Call a function to print the attributes and their types after converting their types\n",
    "print_data_types(df)"
   ]
  },
  {
   "cell_type": "code",
   "execution_count": 74,
   "metadata": {},
   "outputs": [],
   "source": [
    "#Drop the rows that they have age less than 0 and greater than 99 \n",
    "df = df.query('0 <= Age <= 99')\n"
   ]
  },
  {
   "cell_type": "code",
   "execution_count": 75,
   "metadata": {},
   "outputs": [
    {
     "name": "stdout",
     "output_type": "stream",
     "text": [
      "Age\n",
      "The min value for the attributes is:\n",
      "0\n",
      "The max value for the attributes is:\n",
      "99\n",
      "\n",
      "*****************************************\n",
      "\n",
      "Handcap\n",
      "The min value for the attributes is:\n",
      "0\n",
      "The max value for the attributes is:\n",
      "4\n",
      "\n",
      "*****************************************\n",
      "\n",
      "No-show\n",
      "The min value for the attributes is:\n",
      "0\n",
      "The max value for the attributes is:\n",
      "1\n",
      "\n",
      "*****************************************\n",
      "\n"
     ]
    }
   ],
   "source": [
    "#Print the min and max values for each attribute\n",
    "print_min_max_values_of_attributes(df)"
   ]
  },
  {
   "cell_type": "markdown",
   "metadata": {},
   "source": [
    ">`From the last output we can see that the min value of the age become 0 and the max become 99`"
   ]
  },
  {
   "cell_type": "markdown",
   "metadata": {},
   "source": [
    "<a id='eda'></a>\n",
    "## Exploratory Data Analysis\n"
   ]
  },
  {
   "cell_type": "markdown",
   "metadata": {},
   "source": [
    "### Research Question 1 -> What is the overall no-show rate?"
   ]
  },
  {
   "cell_type": "code",
   "execution_count": 76,
   "metadata": {},
   "outputs": [
    {
     "name": "stdout",
     "output_type": "stream",
     "text": [
      "The Mean for No-Show column: 0.20192734018006606\n",
      "********************************\n",
      "Mean for '0':\n",
      "Age             37.784476\n",
      "Scholarship      0.093913\n",
      "Hipertension     0.204401\n",
      "Diabetes         0.073844\n",
      "Alcoholism       0.030420\n",
      "Handcap          0.022710\n",
      "SMS_received     0.291341\n",
      "No-show          0.000000\n",
      "dtype: float64\n",
      "\n",
      "Mean for '1':\n",
      "Age             34.306820\n",
      "Scholarship      0.115522\n",
      "Hipertension     0.169027\n",
      "Diabetes         0.064080\n",
      "Alcoholism       0.030337\n",
      "Handcap          0.020165\n",
      "SMS_received     0.438430\n",
      "No-show          1.000000\n",
      "dtype: float64\n",
      "\n",
      "\n"
     ]
    }
   ],
   "source": [
    "# Calculate the overall no-show rate (mean)\n",
    "no_show_mean=np.mean(df['No-show'])\n",
    "print(\"The Mean for No-Show column:\", no_show_mean)\n",
    "\n",
    "no_show_column = df['No-show']\n",
    "\n",
    "# Get the unique values in the 'No-show' column\n",
    "\n",
    "unique_no_show_column_values = np.unique(no_show_column)\n",
    "\n",
    "\n",
    "\n",
    "# Initialize an empty list to store the means\n",
    "means = []\n",
    "\n",
    "# Calculate the mean for each column of the data set depend on the no-show column values \n",
    "for value in unique_no_show_column_values:\n",
    "    mean_value = np.mean(df[no_show_column == value],axis=0)\n",
    "    means.append(mean_value)\n",
    "    \n",
    "print(\"********************************\")\n",
    "\n",
    "# Print the means for each column in the dataset\n",
    "for i, value in enumerate(unique_no_show_column_values):\n",
    "    print(\"Mean for '{}':\\n{}\\n\".format(value, means[i]))\n",
    "    \n",
    "print()"
   ]
  },
  {
   "cell_type": "markdown",
   "metadata": {},
   "source": [
    "> From the previous output we can see that the mean the no-show column is 0.2 and its indicate that the values are clustered around 0 (No) and that mean that the patent are tend to show for the appointment "
   ]
  },
  {
   "cell_type": "markdown",
   "metadata": {},
   "source": [
    "### Research Question 2 -> What is the relation between the age for each gender and the patient not showing up for an appointment?"
   ]
  },
  {
   "cell_type": "code",
   "execution_count": 77,
   "metadata": {},
   "outputs": [
    {
     "data": {
      "image/png": "[encoded data removed]",
      "text/plain": [
       "<Figure size 1062.24x500 with 1 Axes>"
      ]
     },
     "metadata": {},
     "output_type": "display_data"
    }
   ],
   "source": [
    "%matplotlib inline\n",
    "# Copy the age column and the not-show column into new variable to analyze and plot\n",
    "age_gender_not_show_data_to_analyze = df[['Age','Gender', 'No-show']].copy()\n",
    "\n",
    "# Convert the age column to groups \n",
    "number_of_groups = 5  #Set the number of groups equal to 5\n",
    "age_gender_not_show_data_to_analyze['AgeGroup'] = pd.qcut(age_gender_not_show_data_to_analyze['Age'], q=number_of_groups)\n",
    "# Calculate the no-show rate(mean) for each age group for each gender\n",
    "gender_age_no_show_mean = age_gender_not_show_data_to_analyze.groupby(['Gender', 'AgeGroup'])['No-show'].mean().reset_index()\n",
    "#Plot the no-show rate by age group and gender\n",
    "g = sns.catplot(\n",
    "    data=gender_age_no_show_mean, \n",
    "    kind=\"bar\",\n",
    "    x=\"AgeGroup\", \n",
    "    y=\"No-show\", \n",
    "    hue=\"Gender\",\n",
    "    height=5, \n",
    "    aspect=2,\n",
    "    palette=\"muted\"\n",
    ")\n",
    "g.set_axis_labels(\"Age Group\", \"No-show Rate\")\n",
    "g.legend.set_title(\"Gender\")\n",
    "pl.title('No-show Rate by Age Group and Gender')\n",
    "\n",
    "# Display the plot\n",
    "pl.show()\n",
    "\n"
   ]
  },
  {
   "cell_type": "code",
   "execution_count": 78,
   "metadata": {},
   "outputs": [
    {
     "data": {
      "image/png": "[encoded data removed]",
      "text/plain": [
       "<Figure size 640x480 with 1 Axes>"
      ]
     },
     "metadata": {},
     "output_type": "display_data"
    }
   ],
   "source": [
    "#Plot a pie chart to display the SMS Received vs No SMS Received\n",
    "gender_no_show_mean = age_gender_not_show_data_to_analyze.groupby(['Gender'])['No-show'].mean()\n",
    "gender_no_show_mean.plot(kind='pie', labels=['Female', 'Male'], autopct='%1.1f%%', startangle=90, colors=['skyblue', 'lightgreen'])\n",
    "pl.title('No-show Rate Gender')\n",
    "pl.ylabel('')\n",
    "pl.show()"
   ]
  },
  {
   "cell_type": "code",
   "execution_count": 79,
   "metadata": {},
   "outputs": [
    {
     "name": "stdout",
     "output_type": "stream",
     "text": [
      "The Mean for no-show depend on age groups and gender:\n",
      "  Gender        AgeGroup   No-show\n",
      "0      F  (-0.001, 13.0]  0.209467\n",
      "1      F    (13.0, 30.0]  0.249538\n",
      "2      F    (30.0, 45.0]  0.213482\n",
      "3      F    (45.0, 59.0]  0.180024\n",
      "4      F    (59.0, 99.0]  0.156675\n",
      "5      M  (-0.001, 13.0]  0.207096\n",
      "6      M    (13.0, 30.0]  0.252200\n",
      "7      M    (30.0, 45.0]  0.214275\n",
      "8      M    (45.0, 59.0]  0.176614\n",
      "9      M    (59.0, 99.0]  0.145555\n"
     ]
    }
   ],
   "source": [
    "#Print the mean for each age group for each gender\n",
    "print(\"The Mean for no-show depend on age groups and gender:\")\n",
    "print(gender_age_no_show_mean)"
   ]
  },
  {
   "cell_type": "code",
   "execution_count": 80,
   "metadata": {},
   "outputs": [
    {
     "name": "stdout",
     "output_type": "stream",
     "text": [
      "The Mean for each on age groups:\n",
      "AgeGroup\n",
      "(-0.001, 13.0]    0.208230\n",
      "(13.0, 30.0]      0.250298\n",
      "(30.0, 45.0]      0.213720\n",
      "(45.0, 59.0]      0.178932\n",
      "(59.0, 99.0]      0.153057\n",
      "Name: No-show, dtype: float64\n"
     ]
    }
   ],
   "source": [
    "#print the mean for each age group \n",
    "print(\"The Mean for each on age groups:\")\n",
    "print(age_gender_not_show_data_to_analyze.groupby([ 'AgeGroup'])['No-show'].mean())"
   ]
  },
  {
   "cell_type": "code",
   "execution_count": 81,
   "metadata": {},
   "outputs": [
    {
     "name": "stdout",
     "output_type": "stream",
     "text": [
      "The average for each on gender:\n",
      "The Female gender average is equal 0.64995701940913, Male gender average is equal 0.35004298059087\n"
     ]
    }
   ],
   "source": [
    "#The average for each on gender\n",
    "print(\"The average for each on gender:\")\n",
    "total_data_count=age_gender_not_show_data_to_analyze.shape[0]\n",
    "female_avg=age_gender_not_show_data_to_analyze[\"Gender\"].value_counts()[0]/total_data_count\n",
    "male_avg=age_gender_not_show_data_to_analyze[\"Gender\"].value_counts()[1]/total_data_count\n",
    "print(\"The Female gender average is equal {}, Male gender average is equal {}\".format(female_avg,male_avg))"
   ]
  },
  {
   "cell_type": "markdown",
   "metadata": {},
   "source": [
    "> `From the calculated mean for the age groups for each gender it shows that the majority of patients their are from age 0 to 45.`\n",
    ">\n",
    "> `The gender did not have that effect on the no-show rate so the analyze depend more in the age groups and that also can be indicated from the pie chart that the mean for the two genders is almost the same`\n",
    "\n",
    ">  `From the Plot we can see that the younger age groups have a high rate to not show for the appointment and the older age groups have a low rate to not show for the appointment`"
   ]
  },
  {
   "cell_type": "markdown",
   "metadata": {},
   "source": [
    "### Research Question 3  -> How does receiving an SMS reminder affect the likelihood of attending the appointment?"
   ]
  },
  {
   "cell_type": "code",
   "execution_count": 82,
   "metadata": {},
   "outputs": [],
   "source": [
    "# Remove the data that the ScheduledDay of the appointment was as same as AppointmentDay\n",
    "# because if they are the same that mean that the patient is already at the hospital and will not receive a SMS message\n",
    "# and that will effect the analysis\n",
    "data_to_analyze=df.query(\"AppointmentDay!=ScheduledDay\")\n",
    "\n"
   ]
  },
  {
   "cell_type": "code",
   "execution_count": 83,
   "metadata": {},
   "outputs": [
    {
     "data": {
      "image/png": "[encoded data removed]",
      "text/plain": [
       "<Figure size 640x480 with 1 Axes>"
      ]
     },
     "metadata": {},
     "output_type": "display_data"
    }
   ],
   "source": [
    "%matplotlib inline\n",
    "sms_not_show_data_to_analyze = data_to_analyze[['SMS_received', 'No-show']].copy()\n",
    "sms_no_show_mean = sms_not_show_data_to_analyze.groupby('SMS_received')['No-show'].mean()\n",
    "# Plot the no-show rate by SMS received\n",
    "sms_no_show_mean.plot(kind='bar', color=['skyblue', 'lightgreen'])\n",
    "pl.title('No-show Rate by SMS Received')\n",
    "pl.xlabel('SMS Received')\n",
    "pl.ylabel('No-show Rate')\n",
    "pl.xticks(ticks=[1, 0], labels=['No', 'Yes'], rotation=0)\n",
    "# Display the plot\n",
    "pl.show()\n",
    "\n",
    "\n"
   ]
  },
  {
   "cell_type": "code",
   "execution_count": 84,
   "metadata": {},
   "outputs": [
    {
     "data": {
      "image/png": "[encoded data removed]",
      "text/plain": [
       "<Figure size 640x480 with 1 Axes>"
      ]
     },
     "metadata": {},
     "output_type": "display_data"
    }
   ],
   "source": [
    "#Plot a pie chart to display the SMS Received vs No SMS Received\n",
    "sms_no_show_mean.plot(kind='pie', labels=['Received SMS', 'No SMS'], autopct='%1.1f%%', startangle=90, colors=['skyblue', 'lightgreen'])\n",
    "pl.title('No-show Rate by SMS Received')\n",
    "pl.ylabel('')\n",
    "pl.show()"
   ]
  },
  {
   "cell_type": "code",
   "execution_count": 85,
   "metadata": {},
   "outputs": [
    {
     "name": "stdout",
     "output_type": "stream",
     "text": [
      "SMS_received rates:\n",
      "SMS_received\n",
      "False    0.167015\n",
      "True     0.275761\n",
      "Name: No-show, dtype: float64\n",
      "0.321042392435416\n",
      "0.4668770445146777\n"
     ]
    }
   ],
   "source": [
    "# Print the SMS_received rates\n",
    "print(\"SMS_received rates:\")\n",
    "print(sms_no_show_mean)\n",
    "print(np.mean(sms_not_show_data_to_analyze[\"SMS_received\"]))\n",
    "print(np.std(sms_not_show_data_to_analyze[\"SMS_received\"]))"
   ]
  },
  {
   "cell_type": "markdown",
   "metadata": {},
   "source": [
    "> `From the Plots we can indicate that the patients that received a SMS they tend more likely to show to the appointment, in the other hand the patients that did not received a SMS they have high rate to not show to the appointment`\n",
    "\n",
    "> `Also we can see that the majority of patient did not receive SMS and from the value of the calculated mean and standard deviation for SMS column that show that the majority of the data points are clustered around the mean but with some variability`"
   ]
  },
  {
   "cell_type": "markdown",
   "metadata": {},
   "source": [
    "### Research Question 4  -> What the affect of the patient having a scholarship on the rate of a not showing at the appointment?"
   ]
  },
  {
   "cell_type": "code",
   "execution_count": 86,
   "metadata": {},
   "outputs": [
    {
     "data": {
      "image/png": "[encoded data removed]",
      "text/plain": [
       "<Figure size 640x480 with 1 Axes>"
      ]
     },
     "metadata": {},
     "output_type": "display_data"
    }
   ],
   "source": [
    "%matplotlib inline\n",
    "scholarship_not_show_data_to_analyze = df[['Scholarship', 'No-show']].copy()\n",
    "scholarship_no_show_mean = scholarship_not_show_data_to_analyze.groupby('Scholarship')['No-show'].mean()\n",
    "# Plot the no-show rate (mean) by Scholarship\n",
    "scholarship_no_show_mean.plot(kind='bar', color=['skyblue', 'lightgreen'])\n",
    "pl.title('No-show Rate by Scholarship')\n",
    "pl.xlabel('Scholarship')\n",
    "pl.ylabel('No-show Rate')\n",
    "pl.xticks(ticks=[0, 1], labels=['No', 'Yes'], rotation=0)\n",
    "# Display the plot\n",
    "pl.show()\n"
   ]
  },
  {
   "cell_type": "code",
   "execution_count": 87,
   "metadata": {},
   "outputs": [
    {
     "data": {
      "image/png": "[encoded data removed]",
      "text/plain": [
       "<Figure size 640x480 with 1 Axes>"
      ]
     },
     "metadata": {},
     "output_type": "display_data"
    }
   ],
   "source": [
    "#Plot the count of no-shows and shows for each Scholarship \n",
    "sns.countplot(x='Scholarship', hue='No-show', data=scholarship_not_show_data_to_analyze, palette=['green', 'red'])\n",
    "pl.title('Count of Shows and No-shows by Scholarship')\n",
    "pl.xlabel('Scholarship')\n",
    "pl.ylabel('Count')\n",
    "pl.xticks(ticks=[0, 1], labels=['No', 'Yes'])\n",
    "pl.legend(title='No-show', labels=['Show', 'No-show'])\n",
    "pl.show()\n"
   ]
  },
  {
   "cell_type": "code",
   "execution_count": 88,
   "metadata": {},
   "outputs": [
    {
     "name": "stdout",
     "output_type": "stream",
     "text": [
      "Scholarship rates:\n",
      "Scholarship\n",
      "False    0.198065\n",
      "True     0.237363\n",
      "Name: No-show, dtype: float64\n",
      "The mean value of the Scholarship column 0.09827625209247613\n",
      "The standard deviation value of the Scholarship column 0.2976878068835407\n"
     ]
    }
   ],
   "source": [
    "# Print the Scholarship rates\n",
    "print(\"Scholarship rates:\")\n",
    "print(scholarship_no_show_mean)\n",
    "print(\"The mean value of the Scholarship column\",np.mean(scholarship_not_show_data_to_analyze[\"Scholarship\"]))\n",
    "print(\"The standard deviation value of the Scholarship column\",np.std(scholarship_not_show_data_to_analyze[\"Scholarship\"]))"
   ]
  },
  {
   "cell_type": "markdown",
   "metadata": {},
   "source": [
    "> `From the Plots we can indicate that the patients that have a scholarship they tend more likely to not show to the appointment, in the other hand the patients that did not have a scholarship they tend to show up to the appointment  `\n",
    "\n",
    ">` Also from the value of the calculated mean and standard deviation for the scholarship column that show that the majority of the data points are clustered around the mean but with some variability`"
   ]
  },
  {
   "cell_type": "markdown",
   "metadata": {},
   "source": [
    "<a id='conclusions'></a>\n",
    "## Conclusions\n",
    "\n",
    "> In the conclusion, first, the data was discovered and described to identify the attributes and their types. Any issues, such as incorrect data types or data that needed cleaning, were addressed. It was determined that there were several problems, including incorrect data types and the need to change some data types to categorical. Additionally, the value range of one attribute needed adjustment. These issues were resolved during the cleaning process, which involved changing data types, removing mismatched data, and eliminating unwanted attributes.\n",
    "\n",
    ">  After analyzing the dataset and plotting data for each question, we can conclude that patients tend to show up for appointments, as indicated by the no-show column, which has a mean value of 0.20193616287720698. We also observed the impact of certain attributes on the likelihood of patients missing appointments, such as age, SMS receipt, and scholarship status. Specifically, younger patients, those with scholarships, and those who did not receive SMS reminders were more likely to miss appointments.\n",
    "\n",
    "> Limitation: One limitation of this analysis is that it does not account for all possible external factors that might influence a patient's likelihood to miss an appointment. Factors such as `weather conditions, transportation availability, or the reason for the appointment (specific medical condition being treated) or if there is previous No-shows or not` could also play significant roles but were not included in this dataset. Additionally, The ScheduledDay and AppointmentDay attributes can be simplified to four different attributes that two for the dates and two for the times\n"
   ]
  }
 ],
 "metadata": {
  "kernelspec": {
   "display_name": "Python 3 (ipykernel)",
   "language": "python",
   "name": "python3"
  },
  "language_info": {
   "codemirror_mode": {
    "name": "ipython",
    "version": 3
   },
   "file_extension": ".py",
   "mimetype": "text/x-python",
   "name": "python",
   "nbconvert_exporter": "python",
   "pygments_lexer": "ipython3",
   "version": "3.11.3"
  }
 },
 "nbformat": 4,
 "nbformat_minor": 4
}
